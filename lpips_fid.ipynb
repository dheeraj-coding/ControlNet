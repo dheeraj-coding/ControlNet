{
 "cells": [
  {
   "cell_type": "code",
   "execution_count": 89,
   "metadata": {},
   "outputs": [],
   "source": [
    "#crop all the images stored in the image_log folder starting with name samples \n",
    "from PIL import Image\n",
    "import os \n",
    "\n",
    "def crop_images():\n",
    "    #get the list of all the images in the image_log folder\n",
    "    images = os.listdir('image_log/train')\n",
    "    #loop through the list of images\n",
    "    for image in images:\n",
    "        #check if the image name starts with samples and ends with .png\n",
    "        if image.startswith('samples') and image.endswith('.png'):\n",
    "            #open the image\n",
    "            img = Image.open('image_log/train/' + image)\n",
    "            #crop the image to 256x256\n",
    "            img1 = img.crop((0,0,512,512))\n",
    "            img2 = img.crop((516,0,1024,512))\n",
    "            img3 = img.crop((1028, 0, 1536, 512))\n",
    "            img4 = img.crop((1544, 2, 2048, 512))\n",
    "            #save the cropped image in the image_log folder\n",
    "            img1.save('image_log/train/e_crop_' + image[-10:-4] + '_1.png')\n",
    "            img2.save('image_log/train/e_crop_' + image[-10:-4] + '_2.png')\n",
    "            img3.save('image_log/train/e_crop_' + image[-10:-4] + '_3.png')\n",
    "            img4.save('image_log/train/e_crop_' + image[-10:-4] + '_4.png')\n",
    "\n",
    "#call the function to crop the images\n",
    "crop_images()"
   ]
  },
  {
   "cell_type": "code",
   "execution_count": null,
   "metadata": {},
   "outputs": [],
   "source": [
    "import matplotlib.pyplot as plt\n",
    "\n",
    "# Load the image\n",
    "img = plt.imread('image_log/train/samples_cfg_scale_9.00_gs-000000_e-000000_b-000000.png')\n",
    "\n",
    "# Display the image\n",
    "fig, ax = plt.subplots()\n",
    "ax.imshow(img)\n",
    "\n",
    "# Define a function to handle mouse clicks\n",
    "def onclick(event):\n",
    "    x = int(event.xdata)\n",
    "    y = int(event.ydata)\n",
    "    print(f\"Clicked on point ({x}, {y})\")\n",
    "\n",
    "# Connect the onclick function to the figure\n",
    "cid = fig.canvas.mpl_connect('button_press_event', onclick)\n",
    "\n",
    "# Show the plot\n",
    "plt.show()\n"
   ]
  },
  {
   "cell_type": "code",
   "execution_count": 38,
   "metadata": {},
   "outputs": [],
   "source": [
    "#crop all the images stored in the image_log folder starting with name samples \n",
    "from PIL import Image\n",
    "import os \n",
    "\n",
    "def crop_images():\n",
    "    #get the list of all the images in the image_log folder\n",
    "    images = os.listdir('image_log/train')\n",
    "    #loop through the list of images\n",
    "    for image in images:\n",
    "        #check if the image name starts with samples and ends with .png\n",
    "        if image.startswith('ground') and image.endswith('.png'):\n",
    "            #open the image\n",
    "            img = Image.open('image_log/train/' + image)\n",
    "            #crop the image to 256x256\n",
    "            img1 = img.crop((0,0,512,512))\n",
    "            img2 = img.crop((516,0,1024,512))\n",
    "            img3 = img.crop((1028, 0, 1536, 512))\n",
    "            img4 = img.crop((1544, 2, 2048, 512))\n",
    "            #save the cropped image in the image_log folder\n",
    "            img1.save('image_log/train/oe_crop_' + image[-10:-4] + '_1.png')\n",
    "            img2.save('image_log/train/oe_crop_' + image[-10:-4] + '_2.png')\n",
    "            img3.save('image_log/train/oe_crop_' + image[-10:-4] + '_3.png')\n",
    "            img4.save('image_log/train/oe_crop_' + image[-10:-4] + '_4.png')\n",
    "\n",
    "#call the function to crop the images\n",
    "crop_images()"
   ]
  },
  {
   "cell_type": "code",
   "execution_count": null,
   "metadata": {},
   "outputs": [],
   "source": [
    "\n",
    "import lpips\n",
    "import numpy as np\n",
    "## Initializing the model\n",
    "version = '0.1'\n",
    "use_gpu = False\n",
    "\n",
    "loss_fn = lpips.LPIPS(net='alex', version=version)\n",
    "if use_gpu:\n",
    "    loss_fn.cuda()\n",
    "\n",
    "f = open('distances.txt', 'w')\n",
    "# crawl directories\n",
    "# dir_path = r'image_log/train'\n",
    "dir_path = 'image_log/train/'\n",
    "\n",
    "\n",
    "out_file = 'distances.txt'\n",
    "all_pairs = False\n",
    "N = None\n",
    "\n",
    "f = open(out_file,'w')\n",
    "files = os.listdir(dir_path)\n",
    "if N is not None:\n",
    "    files = files[:N]\n",
    "F = len(files)\n",
    "\n",
    "dists = []\n",
    "import matplotlib.pyplot as plt\n",
    "\n",
    "for (ff,file) in enumerate(files[:-1]):\n",
    "    # o_crop_control_gs-018000_e-000000_b-018000_1.png\n",
    "    # idx = int(file.split('_')[0])\n",
    "    # file = f\"{idx}_edited.jpg\"\n",
    "    # file1 = f\"{idx}_original.jpg\"\n",
    "    #get the last 4 characters of the file name\n",
    "    if file.startswith('e_crop'):\n",
    "        file1_idx = file[-12:-4]\n",
    "        # print(file1_idx)\n",
    "        file = f\"o_crop_{file1_idx}.png\" \n",
    "        file1 = f\"e_crop_{file1_idx}.png\"\n",
    "        \n",
    "        # print(os.path.join(dir_path, file))\n",
    "        # print(os.path.exists(os.path.join(dir_path, file)))\n",
    "        #read the image with the file name from the image_log folder\n",
    "        img0 = lpips.im2tensor(lpips.load_image(os.path.join(dir_path, file)))\n",
    "        img1 = lpips.im2tensor(lpips.load_image(os.path.join(dir_path, file1)))\n",
    "\n",
    "        if use_gpu:\n",
    "            img0 = img0.cuda()\n",
    "\n",
    "        if use_gpu:\n",
    "            img1 = img1.cuda()\n",
    "\n",
    "        # Compute distance\n",
    "        dist01 = loss_fn.forward(img0,img1)\n",
    "        print('(%s,%s): %.3f'%(file,file1,dist01))\n",
    "        f.writelines('(%s,%s): %.6f\\n'%(file,file1,dist01))\n",
    "\n",
    "        dists.append(dist01.item())\n",
    "\n",
    "avg_dist = np.mean(np.array(dists))\n",
    "stderr_dist = np.std(np.array(dists))/np.sqrt(len(dists))\n",
    "\n",
    "print('Avg: %.5f +/- %.5f'%(avg_dist,stderr_dist))\n",
    "f.writelines('Avg: %.6f +/- %.6f'%(avg_dist,stderr_dist))\n",
    "\n",
    "f.close()\n"
   ]
  },
  {
   "cell_type": "code",
   "execution_count": 101,
   "metadata": {},
   "outputs": [
    {
     "data": {
      "image/png": "[encoded data removed]",
      "text/plain": [
       "<Figure size 432x288 with 1 Axes>"
      ]
     },
     "metadata": {
      "needs_background": "light"
     },
     "output_type": "display_data"
    }
   ],
   "source": [
    "import seaborn as sns\n",
    "\n",
    "# Load LPIPS scores from file\n",
    "scores_file = 'distances.txt'\n",
    "with open(scores_file, 'r') as f:\n",
    "    lines = f.readlines()\n",
    "    scores = [float(line.split(': ')[-1]) for line in lines[:-1]]  # Exclude last line\n",
    "\n",
    "# Create violin plot\n",
    "sns.violinplot(y=scores)\n",
    "\n",
    "# Add average line\n",
    "avg_score = sum(scores) / len(scores)\n",
    "plt.axhline(y=avg_score, color='r', linestyle='--')\n",
    "\n",
    "# Set labels and title\n",
    "plt.xlabel('LPIPS score')\n",
    "plt.ylabel('Score distribution')\n",
    "plt.title('Distribution of LPIPS scores')\n",
    "\n",
    "# Show plot\n",
    "plt.show()\n"
   ]
  },
  {
   "cell_type": "code",
   "execution_count": 2,
   "metadata": {},
   "outputs": [],
   "source": [
    "#Frechet Inception Distance (FID) score\n",
    "\n",
    "import numpy\n",
    "from numpy import cov\n",
    "from numpy import trace\n",
    "from numpy import iscomplexobj\n",
    "from numpy import asarray\n",
    "from numpy.random import shuffle\n",
    "from scipy.linalg import sqrtm\n",
    "from keras.applications.inception_v3 import InceptionV3\n",
    "from keras.applications.inception_v3 import preprocess_input\n",
    "from skimage.transform import resize\n",
    "from keras.datasets.mnist import load_data"
   ]
  },
  {
   "cell_type": "code",
   "execution_count": 3,
   "metadata": {},
   "outputs": [],
   "source": [
    "# scale an array of images to a new size\n",
    "def scale_images(images, new_shape):\n",
    "      images_list = list()\n",
    "      for image in images:\n",
    "         # resize with nearest neighbor interpolation\n",
    "         # print(image.shape[0])\n",
    "         # print(new_shape)\n",
    "         # print (image)\n",
    "         new_image = resize(image, new_shape, 0)\n",
    "         # store\n",
    "         images_list.append(new_image)\n",
    "      return asarray(images_list)\n",
    "\n",
    "# img1 = Image.open(os.path.join(dir_path, file))\n",
    "# img2 = Image.open(os.path.join(dir_path, file1))\n",
    "\n",
    "# images1 = asarray(img1)\n",
    "# images2 = asarray(img2)\n",
    "# images1 = scale_images(images1, (299,299,3))\n",
    "# images2 = scale_images(images2, (299,299,3))\n",
    "\n",
    "# print('Prepared', images1.shape, images2.shape)"
   ]
  },
  {
   "cell_type": "code",
   "execution_count": 4,
   "metadata": {},
   "outputs": [],
   "source": [
    "import numpy as np\n",
    "from numpy import asarray\n",
    "from PIL import Image\n",
    "from skimage.transform import resize\n",
    "# calculate frechet inception distance\n",
    "def calculate_fid(model, images1, images2):\n",
    " # calculate activations\n",
    " print(images1.shape, images2.shape)\n",
    " act1 = model.predict(images1)\n",
    " act2 = model.predict(images2)\n",
    " # calculate mean and covariance statistics\n",
    " mu1, sigma1 = act1.mean(axis=0), cov(act1, rowvar=False)\n",
    " mu2, sigma2 = act2.mean(axis=0), cov(act2, rowvar=False)\n",
    " # calculate sum squared difference between means\n",
    " ssdiff = numpy.sum((mu1 - mu2)**2.0)\n",
    " print(sigma1.shape, sigma2.shape)\n",
    " # calculate sqrt of product between cov\n",
    " covmean = sqrtm(sigma1.dot(sigma2))\n",
    "\n",
    " # check and correct imaginary numbers from sqrt\n",
    " if iscomplexobj(covmean):\n",
    "    covmean = covmean.real\n",
    " # calculate score\n",
    " fid = ssdiff + trace(sigma1 + sigma2 - 2.0 * covmean)\n",
    " return fid\n",
    " \n",
    "# prepare the inception v3 model\n",
    "model = InceptionV3(include_top=False, pooling='avg', input_shape=(299,299,3))"
   ]
  },
  {
   "cell_type": "code",
   "execution_count": 39,
   "metadata": {},
   "outputs": [
    {
     "name": "stdout",
     "output_type": "stream",
     "text": [
      "Loaded (512, 512, 3) (512, 512, 3)\n",
      "Scaled (512, 299, 299, 3) (512, 299, 299, 3)\n",
      "(512, 299, 299, 3) (512, 299, 299, 3)\n",
      "(2048, 2048) (2048, 2048)\n",
      "FID: 111.198\n"
     ]
    }
   ],
   "source": [
    "#FID for two individual images\n",
    "\n",
    "\n",
    "# import numpy as np\n",
    "from numpy import asarray\n",
    "from PIL import Image\n",
    "from skimage.transform import resize\n",
    "# calculate frechet inception distance\n",
    "def calculate_fid(model, images1, images2):\n",
    " # calculate activations\n",
    " print(images1.shape, images2.shape)\n",
    " act1 = model.predict(images1)\n",
    " act2 = model.predict(images2)\n",
    " # calculate mean and covariance statistics\n",
    " mu1, sigma1 = act1.mean(axis=0), cov(act1, rowvar=False)\n",
    " mu2, sigma2 = act2.mean(axis=0), cov(act2, rowvar=False)\n",
    " # calculate sum squared difference between means\n",
    " ssdiff = numpy.sum((mu1 - mu2)**2.0)\n",
    " print(sigma1.shape, sigma2.shape)\n",
    " # calculate sqrt of product between cov\n",
    " covmean = sqrtm(sigma1.dot(sigma2))\n",
    "\n",
    " # check and correct imaginary numbers from sqrt\n",
    " if iscomplexobj(covmean):\n",
    "    covmean = covmean.real\n",
    " # calculate score\n",
    " fid = ssdiff + trace(sigma1 + sigma2 - 2.0 * covmean)\n",
    " return fid\n",
    " \n",
    "# prepare the inception v3 model\n",
    "model = InceptionV3(include_top=False, pooling='avg', input_shape=(299,299,3))\n",
    "# get two images \n",
    "#get images from the image_log folder\n",
    "dir_path = 'image_log/train/'\n",
    "file = 'oe_crop_000000_1.png'\n",
    "file1 = 'e_crop_000000_1.png'\n",
    "\n",
    "\n",
    "img1 = Image.open(os.path.join(dir_path, file))\n",
    "img2 = Image.open(os.path.join(dir_path, file1))\n",
    "\n",
    "images1 = asarray(img1)\n",
    "images2 = asarray(img2)\n",
    "\n",
    "print('Loaded', images1.shape, images2.shape)\n",
    "\n",
    "# shuffle(images1)\n",
    "# images1 = images1[:10000]\n",
    "# print('Loaded', images1.shape, images2.shape)\n",
    "# convert integer to floating point values\n",
    "images1 = images1.astype('float32')\n",
    "images2 = images2.astype('float32')\n",
    "# resize images1 to (170, 299, 299, 3) using the first dimension of the images1  \n",
    "# images1 = resize(images1, (images1.shape[0], 299,299,3), 0)\n",
    "# images2 = resize(images2, (images2.shape[0], 299,299,3), 0)\n",
    "# resize images to the new size\n",
    "images1 = scale_images(images1, (299,299,3))\n",
    "images2 = scale_images(images2, (299,299,3))\n",
    "\n",
    "print('Scaled', images1.shape, images2.shape)\n",
    "# pre-process images\n",
    "images1 = preprocess_input(images1)\n",
    "images2 = preprocess_input(images2)\n",
    "# calculate fid\n",
    "fid = calculate_fid(model, images1, images2)\n",
    "\n",
    "print('FID: %.3f' % fid)"
   ]
  },
  {
   "cell_type": "code",
   "execution_count": null,
   "metadata": {},
   "outputs": [],
   "source": [
    "#FID for the entire dataset\n",
    "\n",
    "f = open('fid.txt', 'w')\n",
    "# crawl directories\n",
    "# dir_path = r'image_log/train'\n",
    "dir_path = 'image_log/train/'\n",
    "\n",
    "\n",
    "out_file = 'fid.txt'\n",
    "all_pairs = False\n",
    "N = None\n",
    "\n",
    "f = open(out_file,'w')\n",
    "files = os.listdir(dir_path)\n",
    "if N is not None:\n",
    "    files = files[:N]\n",
    "F = len(files)\n",
    "\n",
    "dists = []\n",
    "import matplotlib.pyplot as plt\n",
    "\n",
    "use_gpu = False\n",
    "#run it for 5 images only\n",
    "count = 0\n",
    "for (ff, file) in enumerate(files[:-1]):\n",
    "    # o_crop_control_gs-018000_e-000000_b-018000_1.png\n",
    "    # idx = int(file.split('_')[0])\n",
    "    # file = f\"{idx}_edited.jpg\"\n",
    "    # file1 = f\"{idx}_original.jpg\"\n",
    "    #get the last 4 characters of the file name\n",
    "    # print(ff, file)\n",
    "    if count == 20:\n",
    "        break\n",
    "    if file.startswith('e_crop'):\n",
    "\n",
    "        count += 1\n",
    "        file1_idx = file[-12:-4]\n",
    "        # print(file1_idx)\n",
    "        file = f\"oe_crop_{file1_idx}.png\" \n",
    "        file1 = f\"e_crop_{file1_idx}.png\"\n",
    "        \n",
    "        # print(os.path.join(dir_path, file))\n",
    "        # print(os.path.exists(os.path.join(dir_path, file)))\n",
    "        #read the image with the file name from the image_log folder\n",
    "        img1 = Image.open(os.path.join(dir_path, file))\n",
    "        img2 = Image.open(os.path.join(dir_path, file1))\n",
    "\n",
    "        images1 = asarray(img1)\n",
    "        images2 = asarray(img2)\n",
    "\n",
    "        # print('Loaded', images1.shape, images2.shape)\n",
    "        # convert integer to floating point values\n",
    "        images1 = images1.astype('float32')\n",
    "        images2 = images2.astype('float32')\n",
    "        # resize images1 to (170, 299, 299, 3) using the first dimension of the images1  \n",
    "       \n",
    "        # resize images to the new size\n",
    "        images1 = scale_images(images1, (299,299,3))\n",
    "        images2 = scale_images(images2, (299,299,3))\n",
    "\n",
    "        # print('Scaled', images1.shape, images2.shape)\n",
    "        # pre-process images\n",
    "        images1 = preprocess_input(images1)\n",
    "        images2 = preprocess_input(images2)\n",
    "        \n",
    "\n",
    "        # if use_gpu:\n",
    "        #     img2 = img2.cuda()\n",
    "\n",
    "        # if use_gpu:\n",
    "        #     img1 = img1.cuda()\n",
    "\n",
    "        # Compute distance\n",
    "        # calculate fid\n",
    "        fid = calculate_fid(model, images1, images2)\n",
    "        print('(%s,%s): %.3f'%(file,file1,fid))\n",
    "        f.writelines('(%s,%s): %.6f\\n'%(file,file1,fid))\n",
    "        f.flush()\n",
    "        dists.append(fid.item())\n",
    "\n",
    "avg_dist = np.mean(np.array(dists))\n",
    "stderr_dist = np.std(np.array(dists))/np.sqrt(len(dists))\n",
    "\n",
    "print('Avg: %.5f +/- %.5f'%(avg_dist,stderr_dist))\n",
    "f.writelines('Avg: %.6f +/- %.6f'%(avg_dist,stderr_dist))\n",
    "\n",
    "f.close()"
   ]
  },
  {
   "cell_type": "code",
   "execution_count": 34,
   "metadata": {},
   "outputs": [
    {
     "name": "stdout",
     "output_type": "stream",
     "text": [
      "[75.505605, 78.550886, 85.127149, 103.772835, 79.481965, 87.686129, 52.789723, 180.751902, 68.712397, 49.51991, 80.930771, 118.553457, 136.475793, 105.916251, 125.097007, 119.640237, 150.784035, 142.841056, 79.319516, 130.239304, 76.836805, 62.801413, 60.810013, 57.030836, 94.883423, 86.818015, 111.772701, 157.570786, 85.399189, 77.042139, 36.677418, 67.867119, 75.418129, 96.344729, 54.061214, 192.181718, 77.602562, 79.692006, 209.789578, 91.552255, 172.445914, 72.181845, 117.566979, 37.804352, 87.614397, 131.289548, 65.69254, 44.382892, 76.640448, 153.44535, 145.219905, 128.435329, 74.951275, 105.576553, 128.594944, 288.606819, 62.812391, 68.843371, 68.172702, 149.140611, 58.396433, 119.392394, 181.742556, 62.316814, 93.703398, 147.397051, 66.507893, 47.520106, 87.386735, 106.483254]\n"
     ]
    },
    {
     "data": {
      "image/png": "[encoded data removed]",
      "text/plain": [
       "<Figure size 432x288 with 1 Axes>"
      ]
     },
     "metadata": {
      "needs_background": "light"
     },
     "output_type": "display_data"
    },
    {
     "name": "stdout",
     "output_type": "stream",
     "text": [
      "87.102375\n"
     ]
    },
    {
     "data": {
      "image/png": "[encoded data removed]",
      "text/plain": [
       "<Figure size 432x288 with 1 Axes>"
      ]
     },
     "metadata": {
      "needs_background": "light"
     },
     "output_type": "display_data"
    },
    {
     "name": "stdout",
     "output_type": "stream",
     "text": [
      "Avg: 100.77304 +/- 5.40617\n"
     ]
    }
   ],
   "source": [
    "#make a horizontal box plot to show the distribution of the FID scores using seaborn library\n",
    "import seaborn as sns\n",
    "import pandas as pd\n",
    "#read the data from the fid.txt file and plot it\n",
    "fid_data = []\n",
    "with open('fid.txt') as f:\n",
    "    for line in f:\n",
    "        fid_data.append(float(line.split(':')[-1]))\n",
    "\n",
    "print(fid_data)\n",
    "# plt.boxplot(fid_data)\n",
    "# plt.show()\n",
    "df = pd.DataFrame(fid_data, columns=['FID'])\n",
    "sns.boxplot(x='FID', data=df, orient='h', )\n",
    "plt.xlabel('FID Scores')\n",
    "plt.show()\n",
    "\n",
    "#get the median of the FID scores\n",
    "import numpy as np\n",
    "print(np.median(np.array(fid_data)))\n",
    "#make a vertical box plot \n",
    "sns.boxplot(y='FID', data=df)\n",
    "plt.show()\n",
    "\n",
    "avg_dist = np.mean(np.array(fid_data))\n",
    "stderr_dist = np.std(np.array(fid_data))/np.sqrt(len(fid_data))\n",
    "\n",
    "print('Avg: %.5f +/- %.5f'%(avg_dist,stderr_dist))"
   ]
  },
  {
   "cell_type": "code",
   "execution_count": 7,
   "metadata": {},
   "outputs": [
    {
     "data": {
      "image/png": "[encoded data removed]",
      "text/plain": [
       "<Figure size 432x288 with 1 Axes>"
      ]
     },
     "metadata": {
      "needs_background": "light"
     },
     "output_type": "display_data"
    }
   ],
   "source": [
    "# # plot the distribution of the FID scores in a histogram \n",
    "\n",
    "plt.hist(fid_data)\n",
    "plt.show()"
   ]
  },
  {
   "cell_type": "code",
   "execution_count": 12,
   "metadata": {},
   "outputs": [
    {
     "name": "stdout",
     "output_type": "stream",
     "text": [
      "[75.505605, 78.550886, 85.127149, 103.772835, 79.481965, 87.686129, 52.789723, 180.751902, 68.712397, 49.51991, 80.930771, 118.553457, 136.475793, 105.916251, 125.097007, 119.640237, 150.784035, 142.841056, 79.319516, 130.239304, 76.836805, 62.801413, 60.810013, 57.030836, 94.883423, 86.818015, 111.772701, 157.570786, 85.399189, 77.042139, 36.677418, 67.867119, 75.418129, 96.344729, 54.061214, 192.181718, 77.602562, 79.692006, 209.789578, 91.552255]\n"
     ]
    },
    {
     "data": {
      "image/png": "[encoded data removed]",
      "text/plain": [
       "<Figure size 432x288 with 1 Axes>"
      ]
     },
     "metadata": {
      "needs_background": "light"
     },
     "output_type": "display_data"
    }
   ],
   "source": [
    "# make a violin plot to show the distribution of the FID scores\n",
    "import matplotlib.pyplot as plt\n",
    "#read the data from the fid.txt file and plot it\n",
    "fid_data = []\n",
    "with open('fid.txt') as f:\n",
    "    for line in f:\n",
    "        fid_data.append(float(line.split(':')[-1]))\n",
    "\n",
    "print(fid_data)\n",
    "plt.violinplot(fid_data)\n",
    "plt.show()\n",
    "\n"
   ]
  }
 ],
 "metadata": {
  "kernelspec": {
   "display_name": "Python 3.10.1 64-bit",
   "language": "python",
   "name": "python3"
  },
  "language_info": {
   "codemirror_mode": {
    "name": "ipython",
    "version": 3
   },
   "file_extension": ".py",
   "mimetype": "text/x-python",
   "name": "python",
   "nbconvert_exporter": "python",
   "pygments_lexer": "ipython3",
   "version": "3.10.1"
  },
  "orig_nbformat": 4,
  "vscode": {
   "interpreter": {
    "hash": "876db7d3f8682b7e4c5477e5f1e2dc2bd1b19fe05d9aabd59218369070754b39"
   }
  }
 },
 "nbformat": 4,
 "nbformat_minor": 2
}
